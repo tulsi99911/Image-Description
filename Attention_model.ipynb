{
  "nbformat": 4,
  "nbformat_minor": 0,
  "metadata": {
    "colab": {
      "provenance": [],
      "gpuType": "T4"
    },
    "kernelspec": {
      "name": "python3",
      "display_name": "Python 3"
    },
    "language_info": {
      "name": "python"
    },
    "accelerator": "GPU",
    "gpuClass": "standard"
  },
  "cells": [
    {
      "cell_type": "code",
      "execution_count": null,
      "metadata": {
        "id": "LzKwFXONSIUk"
      },
      "outputs": [],
      "source": [
        "from numpy import random\n",
        "from numpy import dot\n",
        "from scipy.special import softmax\n",
        "import numpy as np\n",
        "from numpy import array"
      ]
    },
    {
      "cell_type": "code",
      "source": [
        "# encoder representations of four different words\n",
        "word_1 = array([1, 0, 0])\n",
        "word_2 = array([0, 1, 0])\n",
        "word_3 = array([1, 1, 0])\n",
        "word_4 = array([0, 0, 1])"
      ],
      "metadata": {
        "id": "xxGhx8s6SRdX"
      },
      "execution_count": null,
      "outputs": []
    },
    {
      "cell_type": "code",
      "source": [
        "# stacking the word embeddings into a single array\n",
        "words = array([word_1, word_2, word_3, word_4])"
      ],
      "metadata": {
        "id": "o-0mdYTESzNY"
      },
      "execution_count": null,
      "outputs": []
    },
    {
      "cell_type": "code",
      "source": [
        "# generating the weight matrices\n",
        "random.seed(42)\n",
        "W_Q = random.randint(3, size=(3, 3))\n",
        "W_K = random.randint(3, size=(3, 3))\n",
        "W_V = random.randint(3, size=(3, 3))"
      ],
      "metadata": {
        "id": "MBQNnMKPS3HW"
      },
      "execution_count": null,
      "outputs": []
    },
    {
      "cell_type": "code",
      "source": [
        "# generating the queries, keys and values\n",
        "Q = words @ W_Q\n",
        "K = words @ W_K\n",
        "V = words @ W_V"
      ],
      "metadata": {
        "id": "y5qWkM1DS7v9"
      },
      "execution_count": null,
      "outputs": []
    },
    {
      "cell_type": "code",
      "source": [
        "# scoring the query vectors against all key vectors\n",
        "scores = Q @ K.transpose()"
      ],
      "metadata": {
        "id": "Gnv7tq32S9cU"
      },
      "execution_count": null,
      "outputs": []
    },
    {
      "cell_type": "code",
      "source": [
        "# computing the weights by a softmax operation\n",
        "weights = softmax(scores / K.shape[1] ** 0.5, axis=1)"
      ],
      "metadata": {
        "id": "RYGUkodqTArq"
      },
      "execution_count": null,
      "outputs": []
    },
    {
      "cell_type": "code",
      "source": [
        "# computing the attention by a weighted sum of the value vectors\n",
        "attention = weights @ V"
      ],
      "metadata": {
        "id": "boIUdQQcTGQ9"
      },
      "execution_count": null,
      "outputs": []
    },
    {
      "cell_type": "code",
      "source": [
        "print(attention)"
      ],
      "metadata": {
        "colab": {
          "base_uri": "https://localhost:8080/"
        },
        "id": "CRXp_1k9THcO",
        "outputId": "7fd36359-fc52-4d9b-ba53-37cfeff4f752"
      },
      "execution_count": null,
      "outputs": [
        {
          "output_type": "stream",
          "name": "stdout",
          "text": [
            "[[0.98522025 1.74174051 0.75652026]\n",
            " [0.90965265 1.40965265 0.5       ]\n",
            " [0.99851226 1.75849334 0.75998108]\n",
            " [0.99560386 1.90407309 0.90846923]]\n"
          ]
        }
      ]
    }
  ]
}